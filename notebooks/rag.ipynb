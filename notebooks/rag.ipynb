{
 "cells": [
  {
   "cell_type": "code",
   "execution_count": 1,
   "id": "637b0e30-029e-4881-af6e-ff5294a69d83",
   "metadata": {},
   "outputs": [],
   "source": [
    "import pandas as pd"
   ]
  },
  {
   "cell_type": "code",
   "execution_count": 3,
   "id": "ff6217dd-1bf3-4adb-92b0-21d999848a85",
   "metadata": {},
   "outputs": [],
   "source": [
    "# Article dataset to ingest into our knowledge base\n",
    "DATA_FP = \"../cnn_dailymail/3.0.0/train-00000-of-00003.parquet\"\n",
    "NUM_ARTICLES = 100  # We input 100 articles only for testing purposes\n",
    "\n",
    "# We use Milvus vector database for knowledge base\n",
    "MILVUS_URL = \"http://localhost:19530\"\n",
    "MILVUS_HOST = MILVUS_URL.split(\"//\")[-1].split(\":\")[0]\n",
    "MILVUS_PORT = MILVUS_URL.split(\":\")[-1]\n",
    "MILVUS_COLLECTION_NAME = \"articles_collection\"  # This is like a table in a database\n",
    "VECTOR_DIM = 1024  # Dimension of the vectors we store in Milvus\n",
    "EMBEDDING_MODEL_NAME = \"mixedbread-ai/mxbai-embed-large-v1\"\n",
    "\n",
    "# vLLM OpenAI Compatible Server for LLM\n",
    "VLLM_HOST = \"http://localhost:8000/v1\"\n",
    "LLM_NAME = \"astronomer/Llama-3-8B-Instruct-GPTQ-4-Bit\"  # We use Llama3-8B with GPTQ 4-bit quantization\n",
    "MAX_TOKENS = 1024  # Maximum number of output tokens\n",
    "TEMPERATURE = 0  # This parameter controls the creativity of the output"
   ]
  },
  {
   "cell_type": "code",
   "execution_count": 4,
   "id": "a8495075-7f80-4001-8fdf-d3367f9429f4",
   "metadata": {},
   "outputs": [
    {
     "name": "stdout",
     "output_type": "stream",
     "text": [
      "LONDON, England (Reuters) -- Harry Potter star Daniel Radcliffe gains access to a reported £20 million ($41.1 million) fortune as he turns 18 on Monday, but he insists the money won't cast a spell on him. Daniel Radcliffe as Harry Potter in \"Harry Potter and the Order of the Phoenix\" To the disappointment of gossip columnists around the world, the young actor says he has no plans to fritter his cash away on fast cars, drink and celebrity parties. \"I don't plan to be one of those people who, as soon as they turn 18, suddenly buy themselves a massive sports car collection or something similar,\" he told an Australian interviewer earlier this month. \"I don't think I'll be particularly extravagant. \"The things I like buying are things that cost about 10 pounds -- books and CDs and DVDs.\" At 18, Radcliffe will be able to gamble in a casino, buy a drink in a pub or see the horror film \"Hostel: Part II,\" currently six places below his number one movie on the UK box office chart. Details of how he'll mark his landmark birthday are under wraps. His agent and publicist had no comment on his plans. \"I'll definitely have some sort of party,\" he said in an interview. \"Hopefully none of you will be reading about it.\" Radcliffe's earnings from the first five Potter films have been held in a trust fund which he has not been able to touch. Despite his growing fame and riches, the actor says he is keeping his feet firmly on the ground. \"People are always looking to say 'kid star goes off the rails,'\" he told reporters last month. \"But I try very hard not to go that way because it would be too easy for them.\" His latest outing as the boy wizard in \"Harry Potter and the Order of the Phoenix\" is breaking records on both sides of the Atlantic and he will reprise the role in the last two films.  Watch I-Reporter give her review of Potter's latest » . There is life beyond Potter, however. The Londoner has filmed a TV movie called \"My Boy Jack,\" about author Rudyard Kipling and his son, due for release later this year. He will also appear in \"December Boys,\" an Australian film about four boys who escape an orphanage. Earlier this year, he made his stage debut playing a tortured teenager in Peter Shaffer's \"Equus.\" Meanwhile, he is braced for even closer media scrutiny now that he's legally an adult: \"I just think I'm going to be more sort of fair game,\" he told Reuters. E-mail to a friend . Copyright 2007 Reuters. All rights reserved.This material may not be published, broadcast, rewritten, or redistributed.\n"
     ]
    }
   ],
   "source": [
    "# Read the input data\n",
    "df = pd.read_parquet(DATA_FP)\n",
    "df = df[[\"id\", \"article\"]]\n",
    "# Investigate an article\n",
    "print(df.iloc[0][\"article\"])\n",
    "# Get all articles in a list format\n",
    "articles = df.iloc[:NUM_ARTICLES].to_dict(\"records\")"
   ]
  },
  {
   "cell_type": "markdown",
   "id": "29fb41fe-1781-42cf-83e2-499b9b2b562a",
   "metadata": {},
   "source": [
    "# Ingest data to Milvus"
   ]
  },
  {
   "cell_type": "code",
   "execution_count": 5,
   "id": "89225eb6-09b4-4f53-bec8-dbd8b82851bc",
   "metadata": {
    "scrolled": true
   },
   "outputs": [
    {
     "name": "stderr",
     "output_type": "stream",
     "text": [
      "/home/quandv/anaconda3/envs/sup/lib/python3.10/site-packages/sentence_transformers/cross_encoder/CrossEncoder.py:11: TqdmWarning: IProgress not found. Please update jupyter and ipywidgets. See https://ipywidgets.readthedocs.io/en/stable/user_install.html\n",
      "  from tqdm.autonotebook import tqdm, trange\n",
      "/home/quandv/anaconda3/envs/sup/lib/python3.10/site-packages/huggingface_hub/file_download.py:1132: FutureWarning: `resume_download` is deprecated and will be removed in version 1.0.0. Downloads always resume when possible. If you want to force a new download, use `force_download=True`.\n",
      "  warnings.warn(\n"
     ]
    }
   ],
   "source": [
    "# Ingest data into Milvus (or any vector database of your choice)\n",
    "from pymilvus import (\n",
    "    MilvusClient,\n",
    "    DataType,\n",
    ")\n",
    "from sentence_transformers import SentenceTransformer\n",
    "\n",
    "# Connect to Milvus\n",
    "milvus_client = MilvusClient(uri=MILVUS_HOST)\n",
    "\n",
    "# Create a collection to store vectors and metadata,\n",
    "# think of it as a table in a traditional SQL database.\n",
    "schema = milvus_client.create_schema(auto_id=False, enable_dynamic_field=False)\n",
    "schema.add_field(\n",
    "    schema=schema,\n",
    "    field_name=\"id\",\n",
    "    datatype=DataType.VARCHAR,\n",
    "    is_primary=True,\n",
    "    max_length=10000,\n",
    ")\n",
    "# This is the vector embedding\n",
    "schema.add_field(\n",
    "    schema=schema, field_name=\"vector\", datatype=DataType.FLOAT_VECTOR, dim=VECTOR_DIM\n",
    ")\n",
    "# This is the corresponding raw text for the vector\n",
    "schema.add_field(\n",
    "    schema=schema, field_name=\"text\", datatype=DataType.VARCHAR, max_length=10000\n",
    ")\n",
    "\n",
    "# Drop the old collection and create a new one\n",
    "if milvus_client.has_collection(MILVUS_COLLECTION_NAME):\n",
    "    milvus_client.drop_collection(MILVUS_COLLECTION_NAME)\n",
    "\n",
    "milvus_client.create_collection(collection_name=MILVUS_COLLECTION_NAME, schema=schema)\n",
    "\n",
    "# Define an embedding model to create vectors from texts,\n",
    "# you can replace by other models\n",
    "transformer = SentenceTransformer(EMBEDDING_MODEL_NAME)\n",
    "\n",
    "# Loop over articles and create embedding vectors\n",
    "data = []\n",
    "for article in articles:\n",
    "    data.append(\n",
    "        {\n",
    "            \"id\": article[\"id\"],\n",
    "            \"vector\": transformer.encode(article[\"article\"]),\n",
    "            \"text\": article[\"article\"],\n",
    "        }\n",
    "    )\n",
    "res = milvus_client.insert(collection_name=MILVUS_COLLECTION_NAME, data=data)"
   ]
  },
  {
   "cell_type": "markdown",
   "id": "c586bd12-8a25-41d2-b804-18177170785b",
   "metadata": {},
   "source": [
    "# Query data via Langchain"
   ]
  },
  {
   "cell_type": "code",
   "execution_count": 9,
   "id": "46ed2230-f757-4527-bb5b-5c302b145d88",
   "metadata": {},
   "outputs": [
    {
     "name": "stderr",
     "output_type": "stream",
     "text": [
      "/home/quandv/anaconda3/envs/sup/lib/python3.10/site-packages/huggingface_hub/file_download.py:1132: FutureWarning: `resume_download` is deprecated and will be removed in version 1.0.0. Downloads always resume when possible. If you want to force a new download, use `force_download=True`.\n",
      "  warnings.warn(\n",
      "/home/quandv/anaconda3/envs/sup/lib/python3.10/site-packages/langchain_core/_api/deprecation.py:139: LangChainDeprecationWarning: The class `Milvus` was deprecated in LangChain 0.2.0 and will be removed in 0.3.0. An updated version of the class exists in the langchain-milvus package and should be used instead. To use it run `pip install -U langchain-milvus` and import as `from langchain_milvus import MilvusVectorStore`.\n",
      "  warn_deprecated(\n"
     ]
    }
   ],
   "source": [
    "from langchain_huggingface import HuggingFaceEmbeddings\n",
    "from langchain_community.llms.vllm import VLLMOpenAI\n",
    "from langchain.chains import RetrievalQA\n",
    "from langchain_community.vectorstores.milvus import Milvus\n",
    "\n",
    "# We access vLLM via OpenAI compatible server\n",
    "llm = VLLMOpenAI(\n",
    "    openai_api_key=\"EMPTY\",\n",
    "    openai_api_base=VLLM_HOST,\n",
    "    model_name=LLM_NAME,\n",
    "    max_tokens=MAX_TOKENS,\n",
    "    temperature=TEMPERATURE,\n",
    "    streaming=True,\n",
    "    verbose=False,\n",
    ")\n",
    "\n",
    "# We our embedding model reside on cpu\n",
    "model_kwargs = {\"trust_remote_code\": True, \"device\": \"cpu\"}\n",
    "\n",
    "embeddings = HuggingFaceEmbeddings(\n",
    "    model_name=EMBEDDING_MODEL_NAME, model_kwargs=model_kwargs, show_progress=False\n",
    ")\n",
    "\n",
    "store = Milvus(\n",
    "    embedding_function=embeddings,\n",
    "    connection_args={\"host\": MILVUS_HOST, \"port\": MILVUS_PORT},\n",
    "    collection_name=MILVUS_COLLECTION_NAME,\n",
    "    text_field=\"text\",\n",
    "    drop_old=False,\n",
    ")\n",
    "retriever = store.as_retriever(search_type=\"similarity\", search_kwargs={\"k\": 2})\n",
    "\n",
    "qa_chain = RetrievalQA.from_chain_type(\n",
    "    llm=llm, chain_type=\"stuff\", retriever=retriever, return_source_documents=True\n",
    ")"
   ]
  },
  {
   "cell_type": "code",
   "execution_count": 10,
   "id": "5618ce61-6c06-4fd9-8d1a-5977cdb14aff",
   "metadata": {
    "scrolled": true
   },
   "outputs": [
    {
     "name": "stdout",
     "output_type": "stream",
     "text": [
      "{'query': 'Tell me some news about Harry Potter?', 'result': \" According to the article, Daniel Radcliffe, the actor who plays Harry Potter, has turned 18 and will be able to access a reported £20 million ($41.1 million) fortune. However, he has stated that he doesn't plan to spend his money on lavish things like fast cars and celebrity parties. Instead, he likes to buy simple things like books, CDs, and DVDs. He also plans to continue acting in films and has already started working on a new project.\", 'source_documents': [Document(page_content='LONDON, England (Reuters) -- Harry Potter star Daniel Radcliffe gains access to a reported £20 million ($41.1 million) fortune as he turns 18 on Monday, but he insists the money won\\'t cast a spell on him. Daniel Radcliffe as Harry Potter in \"Harry Potter and the Order of the Phoenix\" To the disappointment of gossip columnists around the world, the young actor says he has no plans to fritter his cash away on fast cars, drink and celebrity parties. \"I don\\'t plan to be one of those people who, as soon as they turn 18, suddenly buy themselves a massive sports car collection or something similar,\" he told an Australian interviewer earlier this month. \"I don\\'t think I\\'ll be particularly extravagant. \"The things I like buying are things that cost about 10 pounds -- books and CDs and DVDs.\" At 18, Radcliffe will be able to gamble in a casino, buy a drink in a pub or see the horror film \"Hostel: Part II,\" currently six places below his number one movie on the UK box office chart. Details of how he\\'ll mark his landmark birthday are under wraps. His agent and publicist had no comment on his plans. \"I\\'ll definitely have some sort of party,\" he said in an interview. \"Hopefully none of you will be reading about it.\" Radcliffe\\'s earnings from the first five Potter films have been held in a trust fund which he has not been able to touch. Despite his growing fame and riches, the actor says he is keeping his feet firmly on the ground. \"People are always looking to say \\'kid star goes off the rails,\\'\" he told reporters last month. \"But I try very hard not to go that way because it would be too easy for them.\" His latest outing as the boy wizard in \"Harry Potter and the Order of the Phoenix\" is breaking records on both sides of the Atlantic and he will reprise the role in the last two films.  Watch I-Reporter give her review of Potter\\'s latest » . There is life beyond Potter, however. The Londoner has filmed a TV movie called \"My Boy Jack,\" about author Rudyard Kipling and his son, due for release later this year. He will also appear in \"December Boys,\" an Australian film about four boys who escape an orphanage. Earlier this year, he made his stage debut playing a tortured teenager in Peter Shaffer\\'s \"Equus.\" Meanwhile, he is braced for even closer media scrutiny now that he\\'s legally an adult: \"I just think I\\'m going to be more sort of fair game,\" he told Reuters. E-mail to a friend . Copyright 2007 Reuters. All rights reserved.This material may not be published, broadcast, rewritten, or redistributed.', metadata={'id': '42c027e4ff9730fbb3de84c1af0d2c506e41c3e4'}), Document(page_content='LONDON, England (CNN) -- Prince Harry led tributes to Diana, Princess of Wales on the 10th anniversary of her death, describing her as \"the best mother in the world\" in a speech at a memorial service. Here is his speech in full: . William and I can separate life into two parts. There were those years when we were blessed with the physical presence beside us of both our mother and father. Princes Harry and William greet guests at a thanksgiving service in memory of their mother. And then there are the 10 years since our mother\\'s death. When she was alive, we completely took for granted her unrivaled love of life, laughter, fun and folly. She was our guardian, friend and protector. She never once allowed her unfaltering love for us to go unspoken or undemonstrated. She will always be remembered for her amazing public work. But behind the media glare, to us, just two loving children, she was quite simply the best mother in the world. We would say that, wouldn\\'t we. But we miss her. She kissed us last thing at night. Her beaming smile greeted us from school. She laughed hysterically and uncontrollably when sharing something silly she might have said or done that day. She encouraged us when we were nervous or unsure. She -- like our father -- was determined to provide us with a stable and secure childhood. To lose a parent so suddenly at such a young age, as others have experienced, is indescribably shocking and sad. It was an event which changed our lives forever, as it must have done for everyone who lost someone that night. But what is far more important to us now, and into the future, is that we remember our mother as she would have wished to be remembered as she was: fun-loving, generous, down-to-earth, entirely genuine. We both think of her every day. We speak about her and laugh together at all the memories. Put simply, she made us, and so many other people, happy. May this be the way that she is remembered. Prince William\\'s reading from St Paul\\'s letter to the Ephesians: . I bow my knees before the Father, from whom every family in heaven and on earth takes its name. I pray that, according to the riches of His glory, He may grant that you may be strengthened in your inner being with power through His Spirit, and that Christ may dwell in your hearts through faith, as you are being rooted and grounded in love. I pray that you may have the power to comprehend, with all the saints, what is the breadth and length and height and depth, and to know the love of Christ that surpasses knowledge, so that you may be filled with all the fullness of God. Now to Him who by the power at work within us is able to accomplish abundantly far more than all we can ask or imagine, to Him be glory in the church and in Christ Jesus to all generations, for ever and ever. Amen. Thanks be to God. The Bishop of London\\'s speech: . \"Who\\'s cheating?\" The scene is an old people\\'s home. Two residents are playing Beggar My Neighbor. Enter the Princess. The question from the royal visitor is unexpected but everyone laughs. Afterwards they comment on her large eyes and what life she brought into the room. One tiny incident, characteristic of countless other occasions in the Princess\\'s public life in which she found the right word or the right gesture to bring cheer and comfort. Everyone here will have their own memories. I remember meeting Princess Diana for the very first time early in 1981 to discuss details of the wedding service in St Paul\\'s. Even Archbishop\\'s Chaplains have their share of proper diffidence and I was nervous entering the presence. It must have been a bewildering time for the Princess as well, but even then, at the age of 20, her capacity for empathy and her very strong intuitive power ensured that any tension soon evaporated. Prince Harry has spoken movingly and justly, as few others have the right to do, about the Princess as a mother. I want to dwell for a moment on her public work, its cost and its meaning. After her marriage, the Princess joined her natural gifts of beauty, empathy and powerful intuition with that extraordinary charge which association with the Royal Family generates. Led by our Queen and other members of the Royal Family, our constitution has developed in response to the challenges of the past century. There is a properly political sphere in which the monarch may counsel but doesn\\'t intrude, but there is another sphere, vital to any sense of national unity and creativity, a sphere in which communities must be celebrated, common values articulated and the transcendent source of those values honored. We tend to be suspicious of public figures who wrap themselves in divinity and claim that their will is God\\'s will, but if no-one can articulate in an un-ignorable way in the public realm the creative energy of the love that we see in Christ, the human face of God, then we shall find ourselves inhabiting a maimed and diminished society. And at a time when people are suspicious of rhetoric, the monarchy communicates by symbol and by simple speech, and the Princess brought her own gifts to this work. She was still only 26 in 1987 when she shook the hand of a patient at the opening of the Middlesex Hospital\\'s Aids ward. It was the first in the UK and it is very hard now to credit the degree of fear and prejudice which surrounded Aids in the \\'80s. Those familiar with the field have no doubt that the Princess played a significant part in overcoming a harmful and even a cruel taboo in a gesture which was not choreographed but sprung from a deep identification with those who were vulnerable and on the margin. And she had a similar impact in the USA. An editorial in the New York Times in 1989 admitted ruefully that it had taken a foreign, and even a royal, dignitary to draw attention to a major public health concern in the US. Her work in the very last year of her life for the victims of landmines also caught the popular imagination internationally and certainly accelerated the adoption of the Ottawa Convention, banning the use of a weapon which disproportionately kills and maims women and children. She proved the eloquence of embrace and of touch which, of course, have been used by royal healers throughout the centuries. And as she said, in her words, \"the biggest disease today is not leprosy or TB but the feeling of being unwanted\". She sought out places of suffering, because they are so very often places of truth where the masks have been removed, and she was not afraid to be with the dying and to comfort them in an unsentimental way. Bill Deedes accompanied her on some of her visits. His response to the cynics was typically robust. He said: \"She was one who sought above all to help vulnerable people in society and who did it so well. She was good at this because she herself was vulnerable. She knew the feeling. She didn\\'t set out to be a saint.\" The role brought great power but, like any member of the Royal Family, she also experienced the weight of expectation and the intensity of the scrutiny. Honoring but managing the role and not allowing it to take over one\\'s personal humanity is a desperately difficult task. As we have heard from Prince Harry, his mother Diana did all that she could to prepare her sons for the work which lies ahead. She confessed to receiving a very great deal from some of those whose lives she touched. She said of John, a young Greek suffering from cystic fibrosis: \"He showed no sign of anger, no trace of bitterness but touched us all with an aura of optimism and hope for the future such that I have never before encountered.\" The love of Christ described in the lesson read by Prince William contains the essence of the spiritual life. Princess Diana recognized this quality of life in many of those, like John, whose lives she touched. It was a mystery which resonated deeply with her and for which she reached out. And the mystery is this - the more you go beyond yourself, the more you will become your true self; the more you lose yourself in loving and serving others, the more you will find yourself; the more you keep company with those who suffer, the more you will be healed. This is the knowledge which passes all understanding. This is certain and has been proved experimentally in the life of all the saints. It\\'s easy to lose the real person in the image, to insist that all is darkness or all is light. Still, 10 years after her tragic death, there are regular reports of \"fury\" at this or that incident, and the Princess\\'s memory is used for scoring points. Let it end here. Let this service mark the point at which we let her rest in peace and dwell on her memory with thanksgiving and compassion. Let us also, echoing the words of Prince Harry, look to the future and pray, in the words of St Paul, for all those who serve our country as members of the Royal Family and most especially for the sons who were so precious to her: . \"I pray that you being rooted and established in love may have power with all the saints to grasp what is the breadth and length and depth and height of the love of Christ and to know this love which surpasses knowledge that you might be filled with the fullness of God.\" Amen. E-mail to a friend .', metadata={'id': '55a6aabd120f0b18297f7efe22452f9b3aca0d8d'})]}\n"
     ]
    }
   ],
   "source": [
    "# Test our chain (retriever and LLM) with a question\n",
    "question = \"Tell me some news about Harry Potter?\"\n",
    "result = qa_chain.invoke({\"query\": question})\n",
    "print(result)"
   ]
  }
 ],
 "metadata": {
  "kernelspec": {
   "display_name": "Python 3 (ipykernel)",
   "language": "python",
   "name": "python3"
  },
  "language_info": {
   "codemirror_mode": {
    "name": "ipython",
    "version": 3
   },
   "file_extension": ".py",
   "mimetype": "text/x-python",
   "name": "python",
   "nbconvert_exporter": "python",
   "pygments_lexer": "ipython3",
   "version": "3.10.14"
  }
 },
 "nbformat": 4,
 "nbformat_minor": 5
}
